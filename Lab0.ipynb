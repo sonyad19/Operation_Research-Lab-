{
  "nbformat": 4,
  "nbformat_minor": 0,
  "metadata": {
    "colab": {
      "provenance": []
    },
    "kernelspec": {
      "name": "python3",
      "display_name": "Python 3"
    },
    "language_info": {
      "name": "python"
    }
  },
  "cells": [
    {
      "cell_type": "markdown",
      "source": [
        "**Name**: Sonu Yadav\n",
        "\n",
        "**Class**: Operation Research\n",
        "\n",
        "**Assignment**: Lab 01\n"
      ],
      "metadata": {
        "id": "110HZUnDWAFT"
      }
    },
    {
      "cell_type": "markdown",
      "source": [
        "#My favourite python function is len(). It tells me the size of a list, string or any kinds of iterable I am using in my code or programm. It is very simple and very useful."
      ],
      "metadata": {
        "id": "xkjONNzkGQSv"
      }
    },
    {
      "cell_type": "code",
      "source": [
        "def count_items(data):\n",
        "\n",
        "\n",
        "    return len(data)\n",
        "\n",
        "\n",
        "print(count_items(\"Hello\"))\n",
        "print(count_items([1, 2, 3, 4]))\n",
        "print(count_items((209,300)))\n"
      ],
      "metadata": {
        "colab": {
          "base_uri": "https://localhost:8080/"
        },
        "id": "9quffwquEltx",
        "outputId": "922ddf4e-80b0-41a6-d1a9-222fbf4f5166"
      },
      "execution_count": 21,
      "outputs": [
        {
          "output_type": "stream",
          "name": "stdout",
          "text": [
            "5\n",
            "4\n",
            "2\n"
          ]
        }
      ]
    },
    {
      "cell_type": "markdown",
      "source": [
        "Here we are using Python’s random module to select 15 different numbers from 1 to 30 with function random.sample(). This creates a random list without repeats. We are applying functions like sum(), min(), max(), and compute the average to analyze the list effectively and it gives different numbers and different result everytime we run it."
      ],
      "metadata": {
        "id": "UQilkQftISI6"
      }
    },
    {
      "cell_type": "code",
      "source": [
        "import random\n",
        "\n",
        "\n",
        "numbers = random.sample(range(1, 31), 15)\n",
        "\n",
        "print(\"Chosen numbers:\", numbers)\n",
        "print(\"Sum:\", sum(numbers))\n",
        "print(\"Min:\", min(numbers))\n",
        "print(\"Max:\", max(numbers))\n",
        "print(\"Average:\", round(sum(numbers)/len(numbers), 1))"
      ],
      "metadata": {
        "colab": {
          "base_uri": "https://localhost:8080/"
        },
        "id": "WijXFChmHjed",
        "outputId": "3e211c7b-dd9d-4b5a-b27f-f811a5ffe1ec"
      },
      "execution_count": 25,
      "outputs": [
        {
          "output_type": "stream",
          "name": "stdout",
          "text": [
            "Chosen numbers: [25, 16, 2, 6, 27, 26, 18, 23, 28, 21, 9, 15, 12, 30, 5]\n",
            "Sum: 263\n",
            "Min: 2\n",
            "Max: 30\n",
            "Average: 17.5\n"
          ]
        }
      ]
    }
  ]
}