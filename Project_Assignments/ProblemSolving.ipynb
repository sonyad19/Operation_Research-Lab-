{
  "nbformat": 4,
  "nbformat_minor": 0,
  "metadata": {
    "colab": {
      "provenance": [],
      "include_colab_link": true
    },
    "kernelspec": {
      "name": "python3",
      "display_name": "Python 3"
    },
    "language_info": {
      "name": "python"
    }
  },
  "cells": [
    {
      "cell_type": "markdown",
      "metadata": {
        "id": "view-in-github",
        "colab_type": "text"
      },
      "source": [
        "<a href=\"https://colab.research.google.com/github/sonyad19/Operation_Research-Lab-/blob/main/Project_Assignments/ProblemSolving.ipynb\" target=\"_parent\"><img src=\"https://colab.research.google.com/assets/colab-badge.svg\" alt=\"Open In Colab\"/></a>"
      ]
    },
    {
      "cell_type": "markdown",
      "source": [
        "# Problem Solving"
      ],
      "metadata": {
        "id": "jRaIKW6MbtEr"
      }
    },
    {
      "cell_type": "markdown",
      "source": [
        "## Factorials\n",
        "\n",
        "A factorial is the product of all previous numbers and is expressed with an exclamation $!$.  Thus\n",
        "$$\n",
        "3! = 3\\cdot 2\\cdot 1 = 6\n",
        "$$\n",
        "\n",
        "and\n",
        "$$\n",
        "n! = n(n-1)(n-2)\\cdots3\\cdot2\\cdot1\n",
        "$$\n",
        "\n",
        "How many zeros does $1000!$ end with?  Please do not count them in the number below as the precision may be off!"
      ],
      "metadata": {
        "id": "ABJslq5hb0Z-"
      }
    },
    {
      "cell_type": "code",
      "execution_count": 10,
      "metadata": {
        "colab": {
          "base_uri": "https://localhost:8080/"
        },
        "id": "LfbWxWvKbsQb",
        "outputId": "726eb86c-7f56-4a06-de5b-07462717579a"
      },
      "outputs": [
        {
          "output_type": "stream",
          "name": "stdout",
          "text": [
            "Numbers of trailing_zeros: 249\n"
          ]
        }
      ],
      "source": [
        "import math\n",
        "\n",
        "fact_str = str(math.factorial(1000))\n",
        "\n",
        "trailing_zeros = len(fact_str) - len(fact_str.rstrip('0'))\n",
        "\n",
        "print(\"Numbers of trailing_zeros:\", trailing_zeros)"
      ]
    },
    {
      "cell_type": "markdown",
      "source": [
        "## Big Numbers\n",
        "\n",
        "The sum of the digits of the number $100^{13}-26$ is how much?"
      ],
      "metadata": {
        "id": "yZpb4Ghbc4Zo"
      }
    },
    {
      "cell_type": "markdown",
      "source": [
        "Here is how I thought to approach the problem..."
      ],
      "metadata": {
        "id": "V8ptErrNicgC"
      }
    },
    {
      "cell_type": "code",
      "source": [
        "x = '8675309'\n",
        "x"
      ],
      "metadata": {
        "colab": {
          "base_uri": "https://localhost:8080/",
          "height": 35
        },
        "id": "SMGHYyFjcbTs",
        "outputId": "4f942020-7c54-46b2-e4e8-697a7b15e990"
      },
      "execution_count": null,
      "outputs": [
        {
          "output_type": "execute_result",
          "data": {
            "text/plain": [
              "'8675309'"
            ],
            "application/vnd.google.colaboratory.intrinsic+json": {
              "type": "string"
            }
          },
          "metadata": {},
          "execution_count": 10
        }
      ]
    },
    {
      "cell_type": "code",
      "source": [
        "listofx = [int(digit) for digit in x]\n",
        "\n",
        "listofx"
      ],
      "metadata": {
        "colab": {
          "base_uri": "https://localhost:8080/"
        },
        "id": "lisdG2RhiMEw",
        "outputId": "083c4b84-b445-4c08-ea74-b96d17384d36"
      },
      "execution_count": null,
      "outputs": [
        {
          "output_type": "execute_result",
          "data": {
            "text/plain": [
              "[8, 6, 7, 5, 3, 0, 9]"
            ]
          },
          "metadata": {},
          "execution_count": 11
        }
      ]
    },
    {
      "cell_type": "code",
      "source": [
        "#My solution for sum of the digit 100**13-26\n",
        "\n",
        "num= 100**13 - 26\n",
        "\n",
        "num_str = str(num)\n",
        "\n",
        "listofnum = [int(digit) for digit in num_str]\n",
        "\n",
        "sum(listofnum)\n",
        "\n",
        "print(f\"The number 100**13-26 is :\\n{num}\")\n",
        "print(f\"The sum of the digits of the number 100**13-26 is :\\n{sum(listofnum)}\")"
      ],
      "metadata": {
        "colab": {
          "base_uri": "https://localhost:8080/"
        },
        "id": "JzTtCufzSt5M",
        "outputId": "86b69ae6-c28c-4cd3-bcf8-1f23b03bb2dd"
      },
      "execution_count": 14,
      "outputs": [
        {
          "output_type": "stream",
          "name": "stdout",
          "text": [
            "The number 100**13-26 is :\n",
            "99999999999999999999999974\n",
            "The sum of the digits of the number 100**13-26 is :\n",
            "227\n"
          ]
        }
      ]
    },
    {
      "cell_type": "markdown",
      "source": [
        "## Handshakes\n",
        "\n",
        "Two soccer teams have just finished their game.  The two teams of 11 all shake hands and the winning team also shakes hand with each other.  How many handshakes have occured?"
      ],
      "metadata": {
        "id": "5p6sa9qZio6Z"
      }
    },
    {
      "cell_type": "code",
      "source": [
        "from math import comb\n",
        "\n",
        "team_size = 11\n",
        "\n",
        "\n",
        "wining_team_handshakes = comb(team_size, 2)\n",
        "\n",
        "between_teams_handshakes = team_size * team_size\n",
        "\n",
        "# total\n",
        "total_handshakes = wining_team_handshakes + between_teams_handshakes\n",
        "print(f\"The total number of handshakes is {total_handshakes}\")"
      ],
      "metadata": {
        "colab": {
          "base_uri": "https://localhost:8080/"
        },
        "id": "_ii8WmQ9UZWT",
        "outputId": "36e46081-f317-4ce2-8619-f376d8fc8dbe"
      },
      "execution_count": 20,
      "outputs": [
        {
          "output_type": "stream",
          "name": "stdout",
          "text": [
            "The total number of handshakes is 176\n"
          ]
        }
      ]
    },
    {
      "cell_type": "markdown",
      "source": [
        "## Harder Handshakes\n",
        "\n",
        "Mr. Smith and his wife invited four other couples for a dinner party.  When everyone arrived, handshakes were exchanged with some of the others.  Of course no one shook hands with their spouse and nobody shook hands with the same person twice.\n",
        "\n",
        "Mr. Smith asked everyone how many times they shook hands.  He recieved a different answer from each person.\n",
        "\n",
        "How many times did Mr. Smith shake hands?"
      ],
      "metadata": {
        "id": "g4ypceUKjJrp"
      }
    },
    {
      "cell_type": "code",
      "source": [
        "def mr_smith_handshakes(total_couples):\n",
        "    total_people = total_couples * 2\n",
        "    # Mr. Smith’s handshake count is always (total_couples - 1)\n",
        "    smith_handshakes = total_couples - 1\n",
        "\n",
        "    print(f\"Total couples: {total_couples}\")\n",
        "    print(f\"Total people: {total_people}\")\n",
        "    print(f\"Mr. Smith shook hands {smith_handshakes} times\")\n",
        "\n",
        "mr_smith_handshakes(5)\n",
        "\n",
        "\n",
        "\n"
      ],
      "metadata": {
        "id": "qyHeUOSajwat",
        "colab": {
          "base_uri": "https://localhost:8080/"
        },
        "outputId": "29549001-5ea0-45b3-e7b6-8519515c4ee3"
      },
      "execution_count": 23,
      "outputs": [
        {
          "output_type": "stream",
          "name": "stdout",
          "text": [
            "Total couples: 5\n",
            "Total people: 10\n",
            "Mr. Smith shook hands 4 times\n"
          ]
        }
      ]
    }
  ]
}